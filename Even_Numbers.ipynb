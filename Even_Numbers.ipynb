{
  "nbformat": 4,
  "nbformat_minor": 0,
  "metadata": {
    "colab": {
      "provenance": [],
      "authorship_tag": "ABX9TyMwAN3lWGtyxIFYP6AACPjQ"
    },
    "kernelspec": {
      "name": "python3",
      "display_name": "Python 3"
    },
    "language_info": {
      "name": "python"
    }
  },
  "cells": [
    {
      "cell_type": "code",
      "execution_count": 1,
      "metadata": {
        "colab": {
          "base_uri": "https://localhost:8080/"
        },
        "id": "nUlf8tzksUT-",
        "outputId": "1d2d7943-3ba5-435a-fbf5-ae943cf075a2"
      },
      "outputs": [
        {
          "output_type": "stream",
          "name": "stdout",
          "text": [
            "Even numbers within the range 1 to 20 are:\n",
            "2 4 6 8 10 12 14 16 18 20 "
          ]
        }
      ],
      "source": [
        "# Define the range within which to find even numbers\n",
        "start_num = 1\n",
        "end_num = 20\n",
        "\n",
        "print(\"Even numbers within the range\", start_num, \"to\", end_num, \"are:\")\n",
        "\n",
        "# Loop through the range and check for even numbers\n",
        "for num in range(start_num, end_num + 1):\n",
        "    if num % 2 == 0:\n",
        "        print(num, end=\" \")\n"
      ]
    }
  ]
}