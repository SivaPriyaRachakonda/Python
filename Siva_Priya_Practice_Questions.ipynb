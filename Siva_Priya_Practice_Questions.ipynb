{
  "nbformat": 4,
  "nbformat_minor": 0,
  "metadata": {
    "colab": {
      "provenance": [],
      "include_colab_link": true
    },
    "kernelspec": {
      "name": "python3",
      "display_name": "Python 3"
    },
    "language_info": {
      "name": "python"
    }
  },
  "cells": [
    {
      "cell_type": "markdown",
      "metadata": {
        "id": "view-in-github",
        "colab_type": "text"
      },
      "source": [
        "<a href=\"https://colab.research.google.com/github/SivaPriyaRachakonda/Python/blob/main/Siva_Priya_Practice_Questions.ipynb\" target=\"_parent\"><img src=\"https://colab.research.google.com/assets/colab-badge.svg\" alt=\"Open In Colab\"/></a>"
      ]
    },
    {
      "cell_type": "code",
      "execution_count": null,
      "metadata": {
        "id": "Dv_xh300A_BE"
      },
      "outputs": [],
      "source": [
        "#1.Write a program, defining atleast 15 variables and assign them the values which are of different data types.\n",
        "\n",
        "# Good"
      ]
    },
    {
      "cell_type": "code",
      "source": [
        "# int\n",
        "a = 5\n",
        "b = 6\n",
        "c = a + b\n",
        "print(c)\n"
      ],
      "metadata": {
        "colab": {
          "base_uri": "https://localhost:8080/"
        },
        "id": "InWQfCt4BOGe",
        "outputId": "e2fa86bf-0ebe-41d8-dc9f-c9057822c1e0"
      },
      "execution_count": null,
      "outputs": [
        {
          "output_type": "stream",
          "name": "stdout",
          "text": [
            "11\n"
          ]
        }
      ]
    },
    {
      "cell_type": "code",
      "source": [
        "x = 3,\n",
        "y = 6\n",
        "print (x)"
      ],
      "metadata": {
        "colab": {
          "base_uri": "https://localhost:8080/"
        },
        "id": "NBZ4_eV5CUUy",
        "outputId": "35182396-852f-4669-bfa7-a0fd0e16079f"
      },
      "execution_count": null,
      "outputs": [
        {
          "output_type": "stream",
          "name": "stdout",
          "text": [
            "(3,)\n"
          ]
        }
      ]
    },
    {
      "cell_type": "code",
      "source": [
        "a = 123456\n",
        "b = 7890\n",
        "c = a-b\n",
        "print (c)"
      ],
      "metadata": {
        "colab": {
          "base_uri": "https://localhost:8080/"
        },
        "id": "Gs9WYCbEGWZx",
        "outputId": "dc824e80-479a-4014-8747-59921e815dc2"
      },
      "execution_count": null,
      "outputs": [
        {
          "output_type": "stream",
          "name": "stdout",
          "text": [
            "115566\n"
          ]
        }
      ]
    },
    {
      "cell_type": "code",
      "source": [
        "#FLOAT\n",
        "x = 16.5\n",
        "print (x)"
      ],
      "metadata": {
        "colab": {
          "base_uri": "https://localhost:8080/"
        },
        "id": "7QMGbrNWGxx5",
        "outputId": "ebaa7cd6-b01f-4827-f890-ec42d175bcd3"
      },
      "execution_count": null,
      "outputs": [
        {
          "output_type": "stream",
          "name": "stdout",
          "text": [
            "16.5\n"
          ]
        }
      ]
    },
    {
      "cell_type": "code",
      "source": [
        "y = 2345.6\n",
        "z = 567.8\n",
        "a = y*z\n",
        "print (a)"
      ],
      "metadata": {
        "colab": {
          "base_uri": "https://localhost:8080/"
        },
        "id": "o7m45wb1G9h-",
        "outputId": "385c8a4f-8156-488e-d06b-5d4c45af5e86"
      },
      "execution_count": null,
      "outputs": [
        {
          "output_type": "stream",
          "name": "stdout",
          "text": [
            "1331831.68\n"
          ]
        }
      ]
    },
    {
      "cell_type": "code",
      "source": [
        "a = 24.6\n",
        "b = 68.7\n",
        "c = a/b\n",
        "print (c)"
      ],
      "metadata": {
        "colab": {
          "base_uri": "https://localhost:8080/"
        },
        "id": "FlYYHtJmHw1O",
        "outputId": "6516f1d3-1028-4a6a-c72b-6ced2c01cacb"
      },
      "execution_count": null,
      "outputs": [
        {
          "output_type": "stream",
          "name": "stdout",
          "text": [
            "0.35807860262008734\n"
          ]
        }
      ]
    },
    {
      "cell_type": "code",
      "source": [
        "#STRING x = 'beautiful'\n",
        "print (x)"
      ],
      "metadata": {
        "colab": {
          "base_uri": "https://localhost:8080/"
        },
        "id": "JYhllKY9IGAh",
        "outputId": "2efc2237-6e3a-4e64-b687-05f216ea06b2"
      },
      "execution_count": null,
      "outputs": [
        {
          "output_type": "stream",
          "name": "stdout",
          "text": [
            "beautiful\n"
          ]
        }
      ]
    },
    {
      "cell_type": "code",
      "source": [
        "a ='TRIVENI IS INTELLIGENT AND BEAUTIFUL GIRL'\n",
        "b = ' SHE IS GOOD'\n",
        "print (a + b )"
      ],
      "metadata": {
        "colab": {
          "base_uri": "https://localhost:8080/"
        },
        "id": "XPHPPYyKIY50",
        "outputId": "51dc8717-fefc-4cf5-e9c8-0169520b29ed"
      },
      "execution_count": null,
      "outputs": [
        {
          "output_type": "stream",
          "name": "stdout",
          "text": [
            "TRIVENI IS INTELLIGENT AND BEAUTIFUL GIRL SHE IS GOOD\n"
          ]
        }
      ]
    },
    {
      "cell_type": "code",
      "source": [
        "c, a = 'university of south dakota ', 'usd'\n",
        "b = c + a\n",
        "print(c)\n",
        "print(b)\n"
      ],
      "metadata": {
        "colab": {
          "base_uri": "https://localhost:8080/"
        },
        "id": "m2w13rNyJbpu",
        "outputId": "48d68ed8-3e77-4c1a-da71-08d28aa0a596"
      },
      "execution_count": null,
      "outputs": [
        {
          "output_type": "stream",
          "name": "stdout",
          "text": [
            "university of south dakota \n",
            "university of south dakota usd\n"
          ]
        }
      ]
    },
    {
      "cell_type": "code",
      "source": [
        "#2.create a list named friends_usa, add your friends and create another list named friends_india and add your friends. Now create total_friends list concatenating the above 2 lists. Finally convert the concatenated list to the set data structure and print all the above lists individually.\n",
        "friends_usa = ['Triveni','Chandrika','kusuma']\n",
        "friends_india = ['madhuri', 'sindhu','sandhya']\n",
        "total_friends = friends_india + friends_usa\n",
        "print (total_friends)\n",
        "total_friends_set = set(total_friends)\n",
        "print (total_friends_set)"
      ],
      "metadata": {
        "colab": {
          "base_uri": "https://localhost:8080/"
        },
        "id": "KoV8jqPqM3xA",
        "outputId": "d9a5d330-2311-4ad5-fa79-a1e1c85a391e"
      },
      "execution_count": null,
      "outputs": [
        {
          "output_type": "stream",
          "name": "stdout",
          "text": [
            "['madhuri', 'sindhu', 'sandhya', 'Triveni', 'Chandrika', 'kusuma']\n",
            "{'Chandrika', 'madhuri', 'sindhu', 'kusuma', 'sandhya', 'Triveni'}\n"
          ]
        }
      ]
    },
    {
      "cell_type": "code",
      "source": [
        "#3.Write a program explaining your expenses so far to study at USD including fee, flight tickets, rent....etc  [Now you choose appropriate data structure of your choice], also create a list which includes expected expenses from now to end your course at usd.\n",
        "fees_1st_year = 12678\n",
        "fees_2nd_year = 12678\n",
        "flight_tickets = 2500\n",
        "rent = 3000\n",
        "\n",
        "# Calculate total expenses so far\n",
        "total_expenses_so_far = fees_1st_year + fees_2nd_year + flight_tickets + rent\n",
        "print(\"Total expenses so far:\", total_expenses_so_far)\n",
        "\n",
        "expected_expenses = [\"textbooks\",\"living expenses\",\"transportation\",\"utilities\",\"miscellaneous\"]\n",
        "\n",
        "\n",
        "# Print the list of expected expenses\n",
        "print(\"Expected expenses until the end of the course:\")\n",
        "print(expected_expenses)\n",
        "\n",
        "\n"
      ],
      "metadata": {
        "colab": {
          "base_uri": "https://localhost:8080/"
        },
        "id": "lxAWfPdLQU70",
        "outputId": "9b7e8367-ecc6-4255-df3b-21ab45b1ba41"
      },
      "execution_count": null,
      "outputs": [
        {
          "output_type": "stream",
          "name": "stdout",
          "text": [
            "Total expenses so far: 30856\n",
            "Expected expenses until the end of the course:\n",
            "['textbooks', 'living expenses', 'transportation', 'utilities', 'miscellaneous']\n"
          ]
        }
      ]
    },
    {
      "cell_type": "markdown",
      "source": [
        "4.Create some random list, tuple, set and convert them to other data structure types. and print the type of each created data structure."
      ],
      "metadata": {
        "id": "9SyCdWBkVo0h"
      }
    },
    {
      "cell_type": "code",
      "source": [
        "fruits = [\"apple\", \"banana\", \"orange\", \"grape\", \"kiwi\"]\n",
        "print(\"List of Fruits:\", fruits)\n",
        "print(\"Type of List of Fruits:\", type(fruits))\n",
        "# Convert list to tuple\n",
        "fruits_tuple = tuple(fruits)\n",
        "print(\"Tuple converted from List of Fruits:\", fruits_tuple)\n",
        "print(\"Type of Tuple converted from List of Fruits:\", type(fruits_tuple))\n",
        "# Convert list to set\n",
        "fruits_set = set(fruits)\n",
        "print(\"Set converted from List of Fruits:\", fruits_set)\n",
        "print(\"Type of Set converted from List of Fruits:\", type(fruits_set))"
      ],
      "metadata": {
        "id": "77iEzSnmRwqw",
        "colab": {
          "base_uri": "https://localhost:8080/"
        },
        "outputId": "d9867dae-056d-45af-ca0b-b91db948f279"
      },
      "execution_count": null,
      "outputs": [
        {
          "output_type": "stream",
          "name": "stdout",
          "text": [
            "List of Fruits: ['apple', 'banana', 'orange', 'grape', 'kiwi']\n",
            "Type of List of Fruits: <class 'list'>\n",
            "Tuple converted from List of Fruits: ('apple', 'banana', 'orange', 'grape', 'kiwi')\n",
            "Type of Tuple converted from List of Fruits: <class 'tuple'>\n",
            "Set converted from List of Fruits: {'apple', 'banana', 'kiwi', 'orange', 'grape'}\n",
            "Type of Set converted from List of Fruits: <class 'set'>\n"
          ]
        }
      ]
    },
    {
      "cell_type": "markdown",
      "source": [
        "5.slicing\n"
      ],
      "metadata": {
        "id": "p61qL7pUXFeT"
      }
    },
    {
      "cell_type": "code",
      "source": [
        "fruits = [\"apple\", \"banana\", \"orange\", \"grape\", \"kiwi\"]\n",
        "\n",
        "# Slicing\n",
        "print(\"Slicing 1:\", fruits[1:3])\n",
        "print(\"Slicing 2:\", fruits[:3])\n",
        "print(\"Slicing 3:\", fruits[2:])\n",
        "print(\"Slicing 4:\", fruits[::-1])\n",
        "print(\"Slicing 5:\", fruits[-3:])"
      ],
      "metadata": {
        "colab": {
          "base_uri": "https://localhost:8080/"
        },
        "id": "2vGRj9x9XomD",
        "outputId": "3f9d376e-d926-48e5-f61d-dfef22a4fdcd"
      },
      "execution_count": null,
      "outputs": [
        {
          "output_type": "stream",
          "name": "stdout",
          "text": [
            "Slicing 1: ['banana', 'orange']\n",
            "Slicing 2: ['apple', 'banana', 'orange']\n",
            "Slicing 3: ['orange', 'grape', 'kiwi']\n",
            "Slicing 4: ['kiwi', 'grape', 'orange', 'banana', 'apple']\n",
            "Slicing 5: ['orange', 'grape', 'kiwi']\n"
          ]
        }
      ]
    },
    {
      "cell_type": "code",
      "source": [
        "fruits = [\"apple\", \"banana\", \"orange\", \"grape\", \"kiwi\"]\n",
        "\n",
        "# Performing the append, insert, and remove\n",
        "fruits.append(\"pear\")\n",
        "print(\"Append 'pear':\", fruits)\n",
        "\n",
        "fruits.insert(2, \"pineapple\")\n",
        "print(\"Insert 'pineapple':\", fruits)\n",
        "\n",
        "# Remove \"orange\" in the list\n",
        "\n",
        "fruits.remove(\"orange\")\n",
        "print(\"Remove 'orange':\", fruits)\n",
        "\n",
        "#Delete \"grape\" in the list\n",
        "\n",
        "del fruits[3]\n",
        "print(\"del 'grape':\", fruits)\n",
        "\n",
        "#pop\n",
        "popped_fruit = fruits.pop()\n",
        "print (\"Popped fruit:\", popped_fruit)"
      ],
      "metadata": {
        "colab": {
          "base_uri": "https://localhost:8080/"
        },
        "id": "qd-r112cX6IU",
        "outputId": "53b5b12d-2beb-4bd3-c6b3-10b5bffb8605"
      },
      "execution_count": null,
      "outputs": [
        {
          "output_type": "stream",
          "name": "stdout",
          "text": [
            "Append 'pear': ['apple', 'banana', 'orange', 'grape', 'kiwi', 'pear']\n",
            "Insert 'pineapple': ['apple', 'banana', 'pineapple', 'orange', 'grape', 'kiwi', 'pear']\n",
            "Remove 'orange': ['apple', 'banana', 'pineapple', 'grape', 'kiwi', 'pear']\n",
            "del 'grape': ['apple', 'banana', 'pineapple', 'kiwi', 'pear']\n",
            "Popped fruit: pear\n"
          ]
        }
      ]
    }
  ]
}