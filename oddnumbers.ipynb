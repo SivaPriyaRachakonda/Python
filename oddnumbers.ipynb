{
  "nbformat": 4,
  "nbformat_minor": 0,
  "metadata": {
    "colab": {
      "provenance": [],
      "authorship_tag": "ABX9TyNJJRfSQUtVY6JA/Dcs3Wp1"
    },
    "kernelspec": {
      "name": "python3",
      "display_name": "Python 3"
    },
    "language_info": {
      "name": "python"
    }
  },
  "cells": [
    {
      "cell_type": "code",
      "execution_count": 1,
      "metadata": {
        "colab": {
          "base_uri": "https://localhost:8080/"
        },
        "id": "iFL8CXcIsspe",
        "outputId": "691f49b7-c983-4c67-f123-221ab53eb276"
      },
      "outputs": [
        {
          "output_type": "stream",
          "name": "stdout",
          "text": [
            "Odd numbers within the range 1 to 20 are:\n",
            "1 3 5 7 9 11 13 15 17 19 "
          ]
        }
      ],
      "source": [
        "# Define the range within which to find odd numbers\n",
        "start_num = 1\n",
        "end_num = 20\n",
        "\n",
        "print(\"Odd numbers within the range\", start_num, \"to\", end_num, \"are:\")\n",
        "\n",
        "# Loop through the range and check for odd numbers\n",
        "for num in range(start_num, end_num + 1):\n",
        "    if num % 2 != 0:\n",
        "        print(num, end=\" \")\n"
      ]
    }
  ]
}