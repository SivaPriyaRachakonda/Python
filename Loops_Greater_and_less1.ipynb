{
  "nbformat": 4,
  "nbformat_minor": 0,
  "metadata": {
    "colab": {
      "provenance": [],
      "authorship_tag": "ABX9TyNELeH3gw1/8/H2srMwPYEi",
      "include_colab_link": true
    },
    "kernelspec": {
      "name": "python3",
      "display_name": "Python 3"
    },
    "language_info": {
      "name": "python"
    }
  },
  "cells": [
    {
      "cell_type": "markdown",
      "metadata": {
        "id": "view-in-github",
        "colab_type": "text"
      },
      "source": [
        "<a href=\"https://colab.research.google.com/github/SivaPriyaRachakonda/Python/blob/main/Loops_Greater_and_less1.ipynb\" target=\"_parent\"><img src=\"https://colab.research.google.com/assets/colab-badge.svg\" alt=\"Open In Colab\"/></a>"
      ]
    },
    {
      "cell_type": "code",
      "execution_count": 1,
      "metadata": {
        "colab": {
          "base_uri": "https://localhost:8080/"
        },
        "id": "enxzXmyMtLSe",
        "outputId": "1c3b27f1-3fde-406c-da15-277256a7d769"
      },
      "outputs": [
        {
          "output_type": "stream",
          "name": "stdout",
          "text": [
            "List of numbers: [17, 5, 8, 23, 10, 12, 3]\n",
            "Greater value: 23\n",
            "Lesser value: 3\n"
          ]
        }
      ],
      "source": [
        "# Sample list of numbers\n",
        "numbers = [17, 5, 8, 23, 10, 12, 3]\n",
        "\n",
        "# Initialize variables to store the greater and lesser values\n",
        "greater_value = numbers[0]\n",
        "lesser_value = numbers[0]\n",
        "\n",
        "# Loop through the list to find greater and lesser values\n",
        "for num in numbers:\n",
        "    if num > greater_value:\n",
        "        greater_value = num\n",
        "    if num < lesser_value:\n",
        "        lesser_value = num\n",
        "\n",
        "print(\"List of numbers:\", numbers)\n",
        "print(\"Greater value:\", greater_value)\n",
        "print(\"Lesser value:\", lesser_value)\n"
      ]
    }
  ]
}